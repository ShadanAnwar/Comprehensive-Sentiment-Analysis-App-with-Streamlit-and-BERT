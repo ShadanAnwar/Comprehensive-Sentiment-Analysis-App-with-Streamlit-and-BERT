{
 "cells": [
  {
   "cell_type": "code",
   "execution_count": 1,
   "id": "487be857-e5a3-466d-9b45-3f3313f33f33",
   "metadata": {},
   "outputs": [],
   "source": [
    "# Import the required libraries\n",
    "import pandas as pd\n",
    "import numpy as np\n",
    "import re\n",
    "import string\n",
    "import tensorflow as tf\n",
    "from tensorflow import keras\n",
    "from transformers import pipeline\n",
    "from nltk.corpus import stopwords\n",
    "from nltk.tokenize import word_tokenize\n",
    "from nltk.stem import WordNetLemmatizer\n",
    "from sklearn.model_selection import train_test_split"
   ]
  },
  {
   "cell_type": "code",
   "execution_count": 2,
   "id": "cddb0113-a037-49fa-9d90-2af987b157da",
   "metadata": {},
   "outputs": [
    {
     "name": "stderr",
     "output_type": "stream",
     "text": [
      "C:\\Users\\user\\AppData\\Local\\Temp\\ipykernel_45376\\523357571.py:5: FutureWarning: Downcasting behavior in `replace` is deprecated and will be removed in a future version. To retain the old behavior, explicitly call `result.infer_objects(copy=False)`. To opt-in to the future behavior, set `pd.set_option('future.no_silent_downcasting', True)`\n",
      "  df1['Sentiments'] = df1['Sentiments'].replace({\n"
     ]
    }
   ],
   "source": [
    "# Load the exported data\n",
    "df1 = pd.read_csv('exported_sentiments.csv')\n",
    "\n",
    "# Encode the target labels (0 for negative, 1 for positive)\n",
    "df1['Sentiments'] = df1['Sentiments'].replace({\n",
    "    'negative': 0,\n",
    "    'positive': 1\n",
    "})"
   ]
  },
  {
   "cell_type": "code",
   "execution_count": 3,
   "id": "6a3e90c2-b03a-4428-9156-0637bdf37f29",
   "metadata": {},
   "outputs": [
    {
     "data": {
      "text/html": [
       "<div>\n",
       "<style scoped>\n",
       "    .dataframe tbody tr th:only-of-type {\n",
       "        vertical-align: middle;\n",
       "    }\n",
       "\n",
       "    .dataframe tbody tr th {\n",
       "        vertical-align: top;\n",
       "    }\n",
       "\n",
       "    .dataframe thead th {\n",
       "        text-align: right;\n",
       "    }\n",
       "</style>\n",
       "<table border=\"1\" class=\"dataframe\">\n",
       "  <thead>\n",
       "    <tr style=\"text-align: right;\">\n",
       "      <th></th>\n",
       "      <th>Course Code</th>\n",
       "      <th>Feedback</th>\n",
       "      <th>Previous Experience</th>\n",
       "      <th>Gender</th>\n",
       "      <th>Attendance</th>\n",
       "      <th>Course Difficulty</th>\n",
       "      <th>Study Hours (per week)</th>\n",
       "      <th>Overall Satisfaction</th>\n",
       "      <th>Department</th>\n",
       "      <th>Date</th>\n",
       "      <th>Time</th>\n",
       "      <th>Hour</th>\n",
       "      <th>Processed_Feedback</th>\n",
       "      <th>Char_Count</th>\n",
       "      <th>Word_Count</th>\n",
       "      <th>Sentiment_Scores</th>\n",
       "      <th>Sentiments</th>\n",
       "    </tr>\n",
       "  </thead>\n",
       "  <tbody>\n",
       "    <tr>\n",
       "      <th>0</th>\n",
       "      <td>CPE 321</td>\n",
       "      <td>The man is too fast in his teaching,he clearly...</td>\n",
       "      <td>No</td>\n",
       "      <td>Male</td>\n",
       "      <td>Regular</td>\n",
       "      <td>Challenging</td>\n",
       "      <td>21</td>\n",
       "      <td>5</td>\n",
       "      <td>Yes</td>\n",
       "      <td>2023-05-21</td>\n",
       "      <td>03:29:49</td>\n",
       "      <td>3</td>\n",
       "      <td>man fast teachinghe clearly doesnt know teach ...</td>\n",
       "      <td>58</td>\n",
       "      <td>9</td>\n",
       "      <td>0.150000</td>\n",
       "      <td>1</td>\n",
       "    </tr>\n",
       "    <tr>\n",
       "      <th>1</th>\n",
       "      <td>CPE 331</td>\n",
       "      <td>The class is dry but he really puts in efforts</td>\n",
       "      <td>Yes</td>\n",
       "      <td>Male</td>\n",
       "      <td>Regular</td>\n",
       "      <td>Moderate</td>\n",
       "      <td>7</td>\n",
       "      <td>8</td>\n",
       "      <td>Yes</td>\n",
       "      <td>2023-05-21</td>\n",
       "      <td>03:39:59</td>\n",
       "      <td>3</td>\n",
       "      <td>class dry really put effort</td>\n",
       "      <td>27</td>\n",
       "      <td>5</td>\n",
       "      <td>0.066667</td>\n",
       "      <td>1</td>\n",
       "    </tr>\n",
       "    <tr>\n",
       "      <th>2</th>\n",
       "      <td>CPE 321</td>\n",
       "      <td>The course is shit and it's a threat to my bra...</td>\n",
       "      <td>No</td>\n",
       "      <td>Male</td>\n",
       "      <td>Regular</td>\n",
       "      <td>Challenging</td>\n",
       "      <td>7</td>\n",
       "      <td>4</td>\n",
       "      <td>Yes</td>\n",
       "      <td>2023-05-21</td>\n",
       "      <td>03:57:54</td>\n",
       "      <td>3</td>\n",
       "      <td>course shit threat brainthe teaching mode poor</td>\n",
       "      <td>46</td>\n",
       "      <td>7</td>\n",
       "      <td>-0.300000</td>\n",
       "      <td>0</td>\n",
       "    </tr>\n",
       "    <tr>\n",
       "      <th>3</th>\n",
       "      <td>CPE 321</td>\n",
       "      <td>He no try at all, didn’t teach well.</td>\n",
       "      <td>No</td>\n",
       "      <td>Male</td>\n",
       "      <td>Regular</td>\n",
       "      <td>Challenging</td>\n",
       "      <td>12</td>\n",
       "      <td>1</td>\n",
       "      <td>Yes</td>\n",
       "      <td>2023-05-21</td>\n",
       "      <td>04:52:08</td>\n",
       "      <td>4</td>\n",
       "      <td>try didnt teach well</td>\n",
       "      <td>20</td>\n",
       "      <td>4</td>\n",
       "      <td>0.000000</td>\n",
       "      <td>0</td>\n",
       "    </tr>\n",
       "    <tr>\n",
       "      <th>4</th>\n",
       "      <td>CPE 321</td>\n",
       "      <td>Ogbeni you sef know as e dae go</td>\n",
       "      <td>Yes</td>\n",
       "      <td>Male</td>\n",
       "      <td>Occasional</td>\n",
       "      <td>Difficult</td>\n",
       "      <td>0</td>\n",
       "      <td>0</td>\n",
       "      <td>Yes</td>\n",
       "      <td>2023-05-21</td>\n",
       "      <td>05:24:33</td>\n",
       "      <td>5</td>\n",
       "      <td>ogbeni sef know e dae go</td>\n",
       "      <td>24</td>\n",
       "      <td>6</td>\n",
       "      <td>0.000000</td>\n",
       "      <td>0</td>\n",
       "    </tr>\n",
       "  </tbody>\n",
       "</table>\n",
       "</div>"
      ],
      "text/plain": [
       "  Course Code                                           Feedback  \\\n",
       "0     CPE 321  The man is too fast in his teaching,he clearly...   \n",
       "1     CPE 331     The class is dry but he really puts in efforts   \n",
       "2     CPE 321  The course is shit and it's a threat to my bra...   \n",
       "3     CPE 321               He no try at all, didn’t teach well.   \n",
       "4     CPE 321                   Ogbeni you sef know as e dae go    \n",
       "\n",
       "  Previous Experience Gender  Attendance Course Difficulty  \\\n",
       "0                  No   Male     Regular       Challenging   \n",
       "1                 Yes   Male     Regular          Moderate   \n",
       "2                  No   Male     Regular       Challenging   \n",
       "3                  No   Male     Regular       Challenging   \n",
       "4                 Yes   Male  Occasional         Difficult   \n",
       "\n",
       "   Study Hours (per week)  Overall Satisfaction Department        Date  \\\n",
       "0                      21                     5        Yes  2023-05-21   \n",
       "1                       7                     8        Yes  2023-05-21   \n",
       "2                       7                     4        Yes  2023-05-21   \n",
       "3                      12                     1        Yes  2023-05-21   \n",
       "4                       0                     0        Yes  2023-05-21   \n",
       "\n",
       "       Time  Hour                                 Processed_Feedback  \\\n",
       "0  03:29:49     3  man fast teachinghe clearly doesnt know teach ...   \n",
       "1  03:39:59     3                        class dry really put effort   \n",
       "2  03:57:54     3     course shit threat brainthe teaching mode poor   \n",
       "3  04:52:08     4                               try didnt teach well   \n",
       "4  05:24:33     5                           ogbeni sef know e dae go   \n",
       "\n",
       "   Char_Count  Word_Count  Sentiment_Scores  Sentiments  \n",
       "0          58           9          0.150000           1  \n",
       "1          27           5          0.066667           1  \n",
       "2          46           7         -0.300000           0  \n",
       "3          20           4          0.000000           0  \n",
       "4          24           6          0.000000           0  "
      ]
     },
     "execution_count": 3,
     "metadata": {},
     "output_type": "execute_result"
    }
   ],
   "source": [
    "df1.head()"
   ]
  },
  {
   "cell_type": "code",
   "execution_count": 4,
   "id": "5bf1d962-2f21-4117-b772-04a1eae7de83",
   "metadata": {},
   "outputs": [
    {
     "name": "stdout",
     "output_type": "stream",
     "text": [
      "Sentiments\n",
      "0    59\n",
      "1    41\n",
      "Name: count, dtype: int64\n"
     ]
    }
   ],
   "source": [
    "# Separate the features and the target labels\n",
    "X = df1['Feedback']\n",
    "y = df1['Sentiments']\n",
    "\n",
    "# Display the target labels to ensure correctness\n",
    "print(y.value_counts())"
   ]
  },
  {
   "cell_type": "code",
   "execution_count": 5,
   "id": "bc1a9357-6677-4296-839c-58482cba40ff",
   "metadata": {},
   "outputs": [],
   "source": [
    "# Function for text preprocessing\n",
    "def preprocess_text(text):\n",
    "    text = text.lower()  # Convert text to lowercase\n",
    "    text = re.sub(r\"http\\S+|www\\S+|@\\w+|#\\w+\", \"\", text)  # Remove URLs, mentions, and hashtags\n",
    "    text = re.sub(r\"[^\\w\\s]\", \"\", text)  # Remove punctuation\n",
    "    text = re.sub(r'\\b[0-9]+\\b\\s*', '', text)  # Remove numbers\n",
    "    text = ''.join([char for char in text if char not in string.punctuation])  # Remove punctuation again\n",
    "    tokens = word_tokenize(text)  # Tokenize the text\n",
    "    stop_words = set(stopwords.words('english'))  # Get the set of stopwords\n",
    "    tokens = [token for token in tokens if token not in stop_words]  # Remove stopwords\n",
    "    lemmatizer = WordNetLemmatizer()  # Initialize the lemmatizer\n",
    "    tokens = [lemmatizer.lemmatize(token) for token in tokens]  # Lemmatize tokens\n",
    "    return ' '.join(tokens)  # Join tokens back into a single string"
   ]
  },
  {
   "cell_type": "code",
   "execution_count": 6,
   "id": "584ecbce-b93c-4877-9a4c-83926d129300",
   "metadata": {},
   "outputs": [],
   "source": [
    "# Define the helper function with formatted output\n",
    "def display_label_score(texts, predictions):\n",
    "    for text, prediction in zip(texts, predictions):\n",
    "        label = prediction['label']\n",
    "        score = prediction['score']\n",
    "        print(f\"Text: \\\"{text}\\\"\")\n",
    "        print(f\"  - Label: {label}\")\n",
    "        print(f\"  - Score: {score:.4f}\")\n",
    "        print(\"-\" * 40)"
   ]
  },
  {
   "cell_type": "code",
   "execution_count": 7,
   "id": "2ea484a7-8077-427b-859c-d62085f3ec30",
   "metadata": {},
   "outputs": [
    {
     "name": "stdout",
     "output_type": "stream",
     "text": [
      "WARNING:tensorflow:From C:\\Program Files\\Python311\\Lib\\site-packages\\tf_keras\\src\\losses.py:2976: The name tf.losses.sparse_softmax_cross_entropy is deprecated. Please use tf.compat.v1.losses.sparse_softmax_cross_entropy instead.\n",
      "\n",
      "WARNING:tensorflow:From C:\\Program Files\\Python311\\Lib\\site-packages\\tf_keras\\src\\backend.py:873: The name tf.get_default_graph is deprecated. Please use tf.compat.v1.get_default_graph instead.\n",
      "\n"
     ]
    },
    {
     "name": "stderr",
     "output_type": "stream",
     "text": [
      "All model checkpoint layers were used when initializing TFRobertaForSequenceClassification.\n",
      "\n",
      "All the layers of TFRobertaForSequenceClassification were initialized from the model checkpoint at finiteautomata/bertweet-base-sentiment-analysis.\n",
      "If your task is similar to the task the model of the checkpoint was trained on, you can already use TFRobertaForSequenceClassification for predictions without further training.\n"
     ]
    }
   ],
   "source": [
    "# Load the pretrained BERT model for sentiment analysis using the pipeline\n",
    "classifier = pipeline(\"sentiment-analysis\", model=\"finiteautomata/bertweet-base-sentiment-analysis\")"
   ]
  },
  {
   "cell_type": "code",
   "execution_count": 8,
   "id": "31d8af33-cccc-4557-a3d1-a9b7fe8590d6",
   "metadata": {},
   "outputs": [
    {
     "name": "stdout",
     "output_type": "stream",
     "text": [
      "Text: \"1 unit course wey dey disturb person. nonsense.\"\n",
      "  - Label: NEG\n",
      "  - Score: 0.9592\n",
      "----------------------------------------\n",
      "Text: \"positive experience\"\n",
      "  - Label: POS\n",
      "  - Score: 0.9880\n",
      "----------------------------------------\n",
      "Text: \"I just hope I pass this course cos omo\"\n",
      "  - Label: NEU\n",
      "  - Score: 0.9171\n",
      "----------------------------------------\n",
      "Text: \"thank God for my coding skills  bruh\"\n",
      "  - Label: POS\n",
      "  - Score: 0.9601\n",
      "----------------------------------------\n",
      "Text: \"love to code and course is about coding. A plus for me\"\n",
      "  - Label: POS\n",
      "  - Score: 0.9813\n",
      "----------------------------------------\n",
      "Text: \"Nice teaching from scientist\"\n",
      "  - Label: POS\n",
      "  - Score: 0.9762\n",
      "----------------------------------------\n",
      "Text: \"The lecturer is good and his course is also good\"\n",
      "  - Label: POS\n",
      "  - Score: 0.9891\n",
      "----------------------------------------\n",
      "Text: \"I felt the course was a bit rushed in terms of teaching the course and also the materials were a bit complex to read and understand \"\n",
      "  - Label: NEG\n",
      "  - Score: 0.9383\n",
      "----------------------------------------\n",
      "Text: \"One of my best courses so far. No stress at all and we finished up really early.\"\n",
      "  - Label: POS\n",
      "  - Score: 0.7131\n",
      "----------------------------------------\n",
      "Text: \"the best course and lecturer\"\n",
      "  - Label: POS\n",
      "  - Score: 0.9857\n",
      "----------------------------------------\n"
     ]
    }
   ],
   "source": [
    "# Check the model's performance on new samples\n",
    "sentiment_categories = [\"negative\", \"positive\"]\n",
    "new_examples = list(df1['Feedback'].sample(10))\n",
    "\n",
    "# Predict the sentiment of new examples\n",
    "results = classifier([preprocess_text(example) for example in new_examples])\n",
    "display_label_score(new_examples, results)"
   ]
  },
  {
   "cell_type": "markdown",
   "id": "90450592",
   "metadata": {},
   "source": [
    "## Saving models"
   ]
  },
  {
   "cell_type": "code",
   "execution_count": 9,
   "id": "5cd43049-ca5d-4663-9f89-d04a49b43e1a",
   "metadata": {
    "scrolled": true
   },
   "outputs": [
    {
     "name": "stderr",
     "output_type": "stream",
     "text": [
      "All model checkpoint layers were used when initializing TFRobertaForSequenceClassification.\n",
      "\n",
      "All the layers of TFRobertaForSequenceClassification were initialized from the model checkpoint at finiteautomata/bertweet-base-sentiment-analysis.\n",
      "If your task is similar to the task the model of the checkpoint was trained on, you can already use TFRobertaForSequenceClassification for predictions without further training.\n"
     ]
    }
   ],
   "source": [
    "from transformers import AutoTokenizer, TFAutoModelForSequenceClassification\n",
    "\n",
    "# Define model and tokenizer\n",
    "model_name = \"finiteautomata/bertweet-base-sentiment-analysis\"\n",
    "tokenizer = AutoTokenizer.from_pretrained(model_name)\n",
    "model = TFAutoModelForSequenceClassification.from_pretrained(model_name)\n",
    "\n",
    "# Save the tokenizer and model\n",
    "save_directory = \"./saved_model\"\n",
    "tokenizer.save_pretrained(save_directory)\n",
    "model.save_pretrained(save_directory)"
   ]
  },
  {
   "cell_type": "code",
   "execution_count": 10,
   "id": "bd0a7078-9117-4eea-a5dc-0ee5ae16eb70",
   "metadata": {},
   "outputs": [],
   "source": [
    "# Define a custom path using a raw string\n",
    "save_directory = r\"C:\\Users\\user\\Desktop\\Faculty Feedback\\Sentiment-Analysis-with-Student-Feedback\\saved-model\"\n",
    "\n",
    "# Save the tokenizer and model\n",
    "tokenizer.save_pretrained(save_directory)\n",
    "model.save_pretrained(save_directory)"
   ]
  },
  {
   "cell_type": "markdown",
   "id": "02298462-ec0e-44c8-b749-ae4dbaf78888",
   "metadata": {},
   "source": [
    "## Download saved models"
   ]
  },
  {
   "cell_type": "code",
   "execution_count": 11,
   "id": "c381739e-fbd0-4b04-9c54-852fb1f3b32c",
   "metadata": {
    "scrolled": true
   },
   "outputs": [
    {
     "name": "stderr",
     "output_type": "stream",
     "text": [
      "All model checkpoint layers were used when initializing TFRobertaForSequenceClassification.\n",
      "\n",
      "All the layers of TFRobertaForSequenceClassification were initialized from the model checkpoint at C:\\Users\\user\\Desktop\\Faculty Feedback\\Sentiment-Analysis-with-Student-Feedback\\saved-model.\n",
      "If your task is similar to the task the model of the checkpoint was trained on, you can already use TFRobertaForSequenceClassification for predictions without further training.\n"
     ]
    }
   ],
   "source": [
    "from transformers import AutoTokenizer, TFAutoModelForSequenceClassification, pipeline\n",
    "\n",
    "# Load the tokenizer and model\n",
    "restored_tokenizer = AutoTokenizer.from_pretrained(save_directory)\n",
    "restored_model = TFAutoModelForSequenceClassification.from_pretrained(save_directory)\n",
    "\n",
    "# Create the pipeline using the restored model and tokenizer\n",
    "restored_classifier = pipeline(\"sentiment-analysis\", model=restored_model, tokenizer=restored_tokenizer)"
   ]
  },
  {
   "cell_type": "markdown",
   "id": "e3c9ee65-ef09-497a-881b-d2004ca503c9",
   "metadata": {},
   "source": [
    "## Predicting new examples"
   ]
  },
  {
   "cell_type": "code",
   "execution_count": 12,
   "id": "daaa482b-9e95-4f58-bac9-2e96981a8121",
   "metadata": {},
   "outputs": [],
   "source": [
    "# Define the helper function with formatted output\n",
    "def display_label_score(texts, predictions):\n",
    "    for text, prediction in zip(texts, predictions):\n",
    "        label = prediction['label']\n",
    "        score = prediction['score']\n",
    "        print(f\"Text: \\\"{text}\\\"\")\n",
    "        print(f\"  - Label: {label}\")\n",
    "        print(f\"  - Score: {score:.4f}\")\n",
    "        print(\"-\" * 40)"
   ]
  },
  {
   "cell_type": "code",
   "execution_count": 13,
   "id": "6c8980f2-c196-45ae-9651-83ff9312e9a1",
   "metadata": {},
   "outputs": [],
   "source": [
    "# Define example texts\n",
    "positive_examples = [\n",
    "    \"I love this! It's absolutely wonderful.\",\n",
    "    \"This is the best day ever.\",\n",
    "    \"I'm so happy with the results.\",\n",
    "    \"Fantastic job! I'm very impressed.\",\n",
    "    \"This product exceeded my expectations.\"\n",
    "]\n",
    "\n",
    "negative_examples = [\n",
    "    \"I hate this. It's terrible.\",\n",
    "    \"I'm very disappointed with the service.\",\n",
    "    \"This is the worst experience ever.\",\n",
    "    \"I regret buying this. It's awful.\",\n",
    "    \"The quality is just subpar and unacceptable.\"\n",
    "]"
   ]
  },
  {
   "cell_type": "code",
   "execution_count": 14,
   "id": "9adc9d41-93eb-4c84-bf4a-c44ccfc3d21a",
   "metadata": {},
   "outputs": [
    {
     "name": "stdout",
     "output_type": "stream",
     "text": [
      "\n",
      "Negative Examples Predictions:\n",
      "Text: \"I hate this. It's terrible.\"\n",
      "  - Label: NEG\n",
      "  - Score: 0.9830\n",
      "----------------------------------------\n",
      "Text: \"I'm very disappointed with the service.\"\n",
      "  - Label: NEG\n",
      "  - Score: 0.9845\n",
      "----------------------------------------\n",
      "Text: \"This is the worst experience ever.\"\n",
      "  - Label: NEG\n",
      "  - Score: 0.9823\n",
      "----------------------------------------\n",
      "Text: \"I regret buying this. It's awful.\"\n",
      "  - Label: NEG\n",
      "  - Score: 0.9843\n",
      "----------------------------------------\n",
      "Text: \"The quality is just subpar and unacceptable.\"\n",
      "  - Label: NEG\n",
      "  - Score: 0.9824\n",
      "----------------------------------------\n"
     ]
    }
   ],
   "source": [
    "# Predict sentiments for negative examples\n",
    "print(\"\\nNegative Examples Predictions:\")\n",
    "negative_predictions = restored_classifier(negative_examples)\n",
    "display_label_score(negative_examples, negative_predictions)"
   ]
  },
  {
   "cell_type": "code",
   "execution_count": 15,
   "id": "7bbddf10-7689-45e1-99f4-bdf3d140ae14",
   "metadata": {},
   "outputs": [
    {
     "name": "stdout",
     "output_type": "stream",
     "text": [
      "Positive Examples Predictions:\n",
      "Text: \"I love this! It's absolutely wonderful.\"\n",
      "  - Label: POS\n",
      "  - Score: 0.9924\n",
      "----------------------------------------\n",
      "Text: \"This is the best day ever.\"\n",
      "  - Label: POS\n",
      "  - Score: 0.9921\n",
      "----------------------------------------\n",
      "Text: \"I'm so happy with the results.\"\n",
      "  - Label: POS\n",
      "  - Score: 0.9922\n",
      "----------------------------------------\n",
      "Text: \"Fantastic job! I'm very impressed.\"\n",
      "  - Label: POS\n",
      "  - Score: 0.9922\n",
      "----------------------------------------\n",
      "Text: \"This product exceeded my expectations.\"\n",
      "  - Label: POS\n",
      "  - Score: 0.9391\n",
      "----------------------------------------\n"
     ]
    }
   ],
   "source": [
    "# Predict sentiments for positive examples\n",
    "print(\"Positive Examples Predictions:\")\n",
    "positive_predictions = restored_classifier(positive_examples)\n",
    "display_label_score(positive_examples, positive_predictions)"
   ]
  },
  {
   "cell_type": "markdown",
   "id": "37ee6bb5-51b1-4062-afcf-7db5a529496c",
   "metadata": {},
   "source": [
    "## Metrics of Model"
   ]
  },
  {
   "cell_type": "code",
   "execution_count": 16,
   "id": "250bea5f-525d-4ec8-87a1-38e547d8fc4d",
   "metadata": {},
   "outputs": [],
   "source": [
    "# Separate the features and the target labels\n",
    "X = df1['Feedback']\n",
    "y = df1['Sentiments']"
   ]
  },
  {
   "cell_type": "code",
   "execution_count": 17,
   "id": "1de9478a-7e99-46f2-a9c0-b53805ddc88f",
   "metadata": {},
   "outputs": [],
   "source": [
    "# Encode the target labels (negative for 0, positive for 1 )\n",
    "df1['Sentiments'] = df1['Sentiments'].replace({\n",
    "    0: 'negative',\n",
    "    1: 'positive'\n",
    "})"
   ]
  },
  {
   "cell_type": "code",
   "execution_count": 18,
   "id": "8a9a739d-a5e3-4faa-ad06-d8216004d5fa",
   "metadata": {},
   "outputs": [
    {
     "data": {
      "text/plain": [
       "dtype('O')"
      ]
     },
     "execution_count": 18,
     "metadata": {},
     "output_type": "execute_result"
    }
   ],
   "source": [
    "df1['Sentiments']= df1['Sentiments'].astype(str)\n",
    "df1['Sentiments'].dtype"
   ]
  },
  {
   "cell_type": "code",
   "execution_count": 19,
   "id": "1747ea3d-7909-4de0-b3b2-7854cda9be64",
   "metadata": {},
   "outputs": [],
   "source": [
    "import pandas as pd\n",
    "from sklearn.metrics import accuracy_score, precision_score, recall_score, f1_score, confusion_matrix\n",
    "import matplotlib.pyplot as plt\n",
    "import seaborn as sns"
   ]
  },
  {
   "cell_type": "code",
   "execution_count": 20,
   "id": "f5146e81-9b4d-465f-b9ab-30b7cd115926",
   "metadata": {},
   "outputs": [],
   "source": [
    "# Assuming df1 is your DataFrame and classifier is your trained model\n",
    "# Convert the 'Sentiments' column to a list of strings\n",
    "y_true = df1['Sentiments'].tolist()\n",
    "\n",
    "# Predict the sentiments\n",
    "sentiments_list = df1['Sentiments'].tolist()\n",
    "y_pred = classifier(sentiments_list)  # Ensure classifier outputs a list of predictions\n",
    "\n",
    "# If y_pred is not a list of strings, convert it appropriately\n",
    "if isinstance(y_pred, pd.DataFrame):\n",
    "    y_pred = y_pred.iloc[:, 0].tolist()\n",
    "elif isinstance(y_pred, pd.Series):\n",
    "    y_pred = y_pred.tolist()"
   ]
  },
  {
   "cell_type": "code",
   "execution_count": 21,
   "id": "22ec7f70-9e97-42e0-947e-0caed69cfc2d",
   "metadata": {},
   "outputs": [
    {
     "name": "stdout",
     "output_type": "stream",
     "text": [
      "Accuracy: 0.00\n",
      "Precision: 0.00\n",
      "Recall: 0.00\n",
      "F1 Score: 0.00\n"
     ]
    },
    {
     "name": "stderr",
     "output_type": "stream",
     "text": [
      "C:\\Users\\user\\AppData\\Roaming\\Python\\Python311\\site-packages\\sklearn\\metrics\\_classification.py:1497: UndefinedMetricWarning: Precision is ill-defined and being set to 0.0 in labels with no predicted samples. Use `zero_division` parameter to control this behavior.\n",
      "  _warn_prf(average, modifier, f\"{metric.capitalize()} is\", len(result))\n",
      "C:\\Users\\user\\AppData\\Roaming\\Python\\Python311\\site-packages\\sklearn\\metrics\\_classification.py:1497: UndefinedMetricWarning: Recall is ill-defined and being set to 0.0 in labels with no true samples. Use `zero_division` parameter to control this behavior.\n",
      "  _warn_prf(average, modifier, f\"{metric.capitalize()} is\", len(result))\n"
     ]
    }
   ],
   "source": [
    "# Ensure y_pred is a list of strings\n",
    "y_pred = [str(pred) for pred in y_pred]\n",
    "\n",
    "# Calculate accuracy\n",
    "accuracy = accuracy_score(y_true, y_pred)\n",
    "\n",
    "# Calculate precision\n",
    "precision = precision_score(y_true, y_pred, average='weighted')\n",
    "\n",
    "# Calculate recall\n",
    "recall = recall_score(y_true, y_pred, average='weighted')\n",
    "\n",
    "# Calculate F1 score\n",
    "f1 = f1_score(y_true, y_pred, average='weighted')\n",
    "\n",
    "# Generate confusion matrix\n",
    "cm = confusion_matrix(y_true, y_pred)\n",
    "\n",
    "# Print all the metrics\n",
    "print(f'Accuracy: {accuracy:.2f}')\n",
    "print(f'Precision: {precision:.2f}')\n",
    "print(f'Recall: {recall:.2f}')\n",
    "print(f'F1 Score: {f1:.2f}')"
   ]
  },
  {
   "cell_type": "code",
   "execution_count": 22,
   "id": "96322965-be23-48d0-a2ec-0c0a64f9da1e",
   "metadata": {},
   "outputs": [
    {
     "data": {
      "image/png": "[encoded data removed]",
      "text/plain": [
       "<Figure size 1000x700 with 2 Axes>"
      ]
     },
     "metadata": {},
     "output_type": "display_data"
    }
   ],
   "source": [
    "# Plot confusion matrix\n",
    "plt.figure(figsize=(10, 7))\n",
    "sns.heatmap(cm, annot=True, fmt='d', cmap='Blues')\n",
    "plt.xlabel('Predicted')\n",
    "plt.ylabel('True')\n",
    "plt.title('Confusion Matrix')\n",
    "plt.show()"
   ]
  }
 ],
 "metadata": {
  "kernelspec": {
   "display_name": "Python 3 (ipykernel)",
   "language": "python",
   "name": "python3"
  },
  "language_info": {
   "codemirror_mode": {
    "name": "ipython",
    "version": 3
   },
   "file_extension": ".py",
   "mimetype": "text/x-python",
   "name": "python",
   "nbconvert_exporter": "python",
   "pygments_lexer": "ipython3",
   "version": "3.11.7"
  }
 },
 "nbformat": 4,
 "nbformat_minor": 5
}
